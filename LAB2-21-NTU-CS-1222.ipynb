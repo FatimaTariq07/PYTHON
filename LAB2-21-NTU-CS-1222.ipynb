{
 "cells": [
  {
   "cell_type": "code",
   "execution_count": 16,
   "metadata": {},
   "outputs": [
    {
     "name": "stdout",
     "output_type": "stream",
     "text": [
      "20.096000000000004\n",
      "Choice is circumference\n"
     ]
    }
   ],
   "source": [
    "#Write a function which take the radius of circle as first argument and a char (a or c) as second argument. If second argument is a then return the area of circle. If the second argument is c then return the circumference of circle.Write a function which take the radius of circle as first argument and a char (a or c) as second argument. If second argument is a then return the area of circle. If the second argument is c then return the circumference of circle.\n",
    "def Area_Circumference(radius,character):\n",
    "    if character == 'a':\n",
    "        return 3.14*radius**2\n",
    "    elif character == 'c':\n",
    "        return 2*3.14*radius\n",
    "      \n",
    "radius1 = float(input(\"Enter radius:\"))\n",
    "character1 = input(\"Enter character: \") \n",
    "print(Area_Circumference(radius1,character1))\n",
    "if(character1 == 'a'):\n",
    "    print(\"Choice is area\")\n",
    "elif(character1 == 'c'):\n",
    "    print(\"Choice is circumference\")\n",
    "else:\n",
    "    print(\"Wrong choice\")"
   ]
  },
  {
   "cell_type": "code",
   "execution_count": 6,
   "metadata": {},
   "outputs": [
    {
     "name": "stdout",
     "output_type": "stream",
     "text": [
      "30\n",
      "3840\n"
     ]
    }
   ],
   "source": [
    "#Write two functions add and multiply with five arguments and default values. These functions display result.\n",
    "def add(n1=2,n2=4,n3=6,n4=8,n5=10):\n",
    "    return n1+n2+n3+n4+n5\n",
    "def multiply(n1=2,n2=4,n3=6,n4=8,n5=10):\n",
    "    return n1*n2*n3*n4*n5\n",
    "\n",
    "print(add())\n",
    "print(multiply())"
   ]
  },
  {
   "cell_type": "code",
   "execution_count": 8,
   "metadata": {},
   "outputs": [
    {
     "name": "stdout",
     "output_type": "stream",
     "text": [
      "Name:  Fatima\n",
      "Salary:  1000000\n"
     ]
    }
   ],
   "source": [
    "#: Write a program to create a function show_employee() using the following conditions.\n",
    "#\tIt should accept the employee’s name and salary and display both.\n",
    "#\tIf the salary is missing in the function call then assign default value 9000 to salary\n",
    "def show_employee(name , salary = 9000):\n",
    "    print(\"Name: \",name)\n",
    "    print(\"Salary: \",salary)\n",
    "    \n",
    "show_employee(\"Fatima\",1000000)\n"
   ]
  },
  {
   "cell_type": "code",
   "execution_count": 11,
   "metadata": {},
   "outputs": [
    {
     "name": "stdout",
     "output_type": "stream",
     "text": [
      "Name of the employee  Fatima Tariq\n",
      "Salary of the employee  100000\n",
      "The employee is a manager\n"
     ]
    }
   ],
   "source": [
    "#Write a program to create a function show_details() using the following conditions.\n",
    "#\tIt should accept the employee’s name and salary and display both\n",
    "#\tIf the salary is greater than 90000 then it shows the designation as Manager\n",
    "#\tIf salary is less than 90000 then it shows the designation as Worker\n",
    "def show_details(name , salary):\n",
    "    print(\"Name of the employee \",name)\n",
    "    print(\"Salary of the employee \",salary)\n",
    "    if salary > 90000:\n",
    "        print(\"The employee is a manager\")\n",
    "    else:\n",
    "        print(\"The employee is a worker\")\n",
    "        \n",
    "show_details(\"Fatima Tariq\",100000)\n"
   ]
  },
  {
   "cell_type": "code",
   "execution_count": 14,
   "metadata": {},
   "outputs": [],
   "source": [
    "#Basic turtle code\n",
    "import turtle\n",
    "\n",
    "turtle.TurtleScreen._RUNNING = True\n",
    "turtle.showturtle()\n",
    "turtle.pensize(5)\n",
    "turtle.pencolor(\"green\")\n",
    "turtle.penup()\n",
    "turtle.goto(-100, 100)\n",
    "turtle.pendown()\n",
    "turtle.circle(45)\n",
    "turtle.done()"
   ]
  },
  {
   "cell_type": "code",
   "execution_count": null,
   "metadata": {},
   "outputs": [],
   "source": [
    "#Draw olymphics logo\n",
    "import turtle\n",
    "screen = turtle.Screen()\n",
    "screen.bgcolor(\"white\")\n",
    "\n",
    "t = turtle.Turtle()\n",
    "t.speed(0)\n",
    "t.width(6)\n",
    "\n",
    "# Draw the Olympic rings\n",
    "colors = [\"blue\", \"black\", \"red\", \"yellow\", \"green\"]\n",
    "positions = [(-120, 0), (0, 0), (120, 0), (-60, -80), (60, -80)]\n",
    "\n",
    "for color, (x, y) in zip(colors, positions):\n",
    "    t.penup()\n",
    "    t.goto(x, y)\n",
    "    t.pendown()\n",
    "    t.color(color)\n",
    "    t.circle(80)\n",
    "\n",
    "screen.mainloop()"
   ]
  },
  {
   "cell_type": "code",
   "execution_count": null,
   "metadata": {},
   "outputs": [],
   "source": [
    "#Draw triangle, square, pentagon, hexagon, and octagon in horizontal straight line. Filled and not filled.\n",
    "import turtle\n",
    "\n",
    "def filled_shape(sides, length):\n",
    "    angle = 360 / sides\n",
    "    turtle.begin_fill()\n",
    "    for _ in range(sides):\n",
    "        turtle.forward(length)\n",
    "        turtle.right(angle)\n",
    "        turtle.color(\"red\")\n",
    "    turtle.end_fill()\n",
    "\n",
    "def unfilled_shape(sides, length):\n",
    "    angle = 360 / sides\n",
    "    for _ in range(sides):\n",
    "        turtle.forward(length)\n",
    "        turtle.right(angle)\n",
    "\n",
    "# Setup\n",
    "turtle.speed(0)\n",
    "turtle.penup()\n",
    "turtle.setposition(-400, 0)  # Starting position\n",
    "turtle.pendown()\n",
    "unfilled_shape(3, 70) \n",
    "turtle.forward(120)\n",
    "unfilled_shape(4, 70)  \n",
    "turtle.forward(120)\n",
    "unfilled_shape(5, 70)  \n",
    "turtle.forward(130)\n",
    "unfilled_shape(6, 70)  \n",
    "turtle.forward(150)\n",
    "unfilled_shape(8, 70) \n",
    "\n",
    "\n",
    "turtle.penup()\n",
    "turtle.setposition(-400, -200)\n",
    "\n",
    "turtle.pendown()\n",
    "filled_shape(3, 70)  # Triangle\n",
    "turtle.forward(120)\n",
    "filled_shape(4, 70)  # Square\n",
    "turtle.forward(120)\n",
    "filled_shape(5, 70)  # Pentagon\n",
    "turtle.forward(130)\n",
    "filled_shape(6, 70)  # Hexagon\n",
    "turtle.forward(150)\n",
    "filled_shape(8, 70)  # Octagon\n",
    "turtle.done()\n"
   ]
  },
  {
   "cell_type": "code",
   "execution_count": null,
   "metadata": {},
   "outputs": [],
   "source": [
    "#Input coordinate point of center of circle and radius. Draw a circle.\n",
    "import turtle\n",
    "\n",
    "def draw_circle(x, y, radius):\n",
    "    turtle.penup()\n",
    "    turtle.setposition(x + radius,y)\n",
    "    turtle.pendown()\n",
    "    turtle.color(\"blue\")\n",
    "    turtle.circle(radius)\n",
    "#user input\n",
    "x = float(input(\"Enter x point of circle\"))\n",
    "y = float(input(\"Enter y point of circle\"))\n",
    "radius = float(input(\"Enter radius of circle\"))\n",
    "turtle.speed(0)\n",
    "# Draw circle\n",
    "draw_circle(x, y, radius)\n",
    "\n",
    "turtle.done()\n"
   ]
  },
  {
   "cell_type": "code",
   "execution_count": null,
   "metadata": {},
   "outputs": [],
   "source": [
    "#Write a program that display 20 random balls in a rectangle with width 120 and height 100, centered at (0, 0) as shown below:\n",
    "import turtle\n",
    "import random\n",
    "\n",
    "def draw_rectangle(width, height):\n",
    "    turtle.penup()\n",
    "    turtle.setposition(-width/2, -height/2)\n",
    "    turtle.pendown()\n",
    "    for _ in range(2):\n",
    "        turtle.forward(width)\n",
    "        turtle.left(90)\n",
    "        turtle.forward(height)\n",
    "        turtle.left(90)\n",
    "\n",
    "def draw_ball(x, y, radius):\n",
    "    turtle.penup()\n",
    "    turtle.setposition(x, y - radius)\n",
    "    turtle.pendown()\n",
    "    turtle.circle(radius)\n",
    "\n",
    "# Setup\n",
    "turtle.speed(0)\n",
    "turtle.hideturtle()\n",
    "turtle.Screen().tracer(0)\n",
    "\n",
    "# Constants\n",
    "width = 200\n",
    "height = 160\n",
    "num_balls = 20\n",
    "min_radius = 2\n",
    "max_radius = 6\n",
    "\n",
    "# Draw rectangle\n",
    "draw_rectangle(width, height)\n",
    "\n",
    "# Draw random balls\n",
    "for _ in range(num_balls):\n",
    "    x = random.uniform(-width/2, height/2)\n",
    "    y = random.uniform(-width/2, height/2)\n",
    "    radius = random.randint(min_radius, max_radius)\n",
    "    draw_ball(x, y, radius)\n",
    "turtle.done()\n"
   ]
  },
  {
   "cell_type": "code",
   "execution_count": 7,
   "metadata": {},
   "outputs": [
    {
     "name": "stdout",
     "output_type": "stream",
     "text": [
      "*\n",
      "**\n",
      "***\n",
      "****\n",
      "*****\n",
      "--------------------------------------\n",
      "*****\n",
      "****\n",
      "***\n",
      "**\n",
      "*\n",
      "--------------------------------------\n",
      "54321\n",
      "4321\n",
      "321\n",
      "21\n",
      "1\n",
      "--------------------------------------\n",
      "1\n",
      "12\n",
      "123\n",
      "1234\n",
      "12345\n"
     ]
    }
   ],
   "source": [
    "#Task 10: Print the following patterns.\n",
    "for i in range(1, 6):\n",
    "    print('*' * i)\n",
    "print(\"--------------------------------------\")\n",
    "for i in range(5, 0, -1):\n",
    "    print('*' * i)\n",
    "print(\"--------------------------------------\")\n",
    "for i in range(5, 0, -1):\n",
    "    for j in range(i, 0, -1):\n",
    "        print(j, end='')\n",
    "    print()\n",
    "print(\"--------------------------------------\")\n",
    "for i in range(1, 6):\n",
    "    for j in range(1, i + 1):\n",
    "        print(j, end='')\n",
    "    print()\n",
    "\n",
    "\n",
    "    \n"
   ]
  },
  {
   "cell_type": "code",
   "execution_count": 10,
   "metadata": {},
   "outputs": [
    {
     "name": "stdout",
     "output_type": "stream",
     "text": [
      "      1 \n",
      "     2 1 \n",
      "    3 2 1 \n",
      "   4 3 2 1 \n",
      "  5 4 3 2 1 \n",
      " 6 5 4 3 2 1 \n",
      "7 6 5 4 3 2 1 \n"
     ]
    }
   ],
   "source": [
    "rows = 7\n",
    "for i in range(1, rows + 1):\n",
    "    # Print leading spaces\n",
    "    print(\" \" * (rows - i), end=\"\")\n",
    "    \n",
    "    # Print numbers in decreasing order\n",
    "    for j in range(i, 0, -1):\n",
    "        print(j, end=\" \")\n",
    "    \n",
    "    print()  \n"
   ]
  },
  {
   "cell_type": "code",
   "execution_count": null,
   "metadata": {},
   "outputs": [],
   "source": [
    "#Print First 10 natural numbers using while loop.\n",
    "count =1\n",
    "while count <= 10:\n",
    "    print(count)\n",
    "    count += 1"
   ]
  },
  {
   "cell_type": "code",
   "execution_count": 2,
   "metadata": {},
   "outputs": [
    {
     "name": "stdout",
     "output_type": "stream",
     "text": [
      "Fibonnoci Series \n",
      "0\n",
      "1\n",
      "1\n",
      "2\n",
      "3\n",
      "5\n",
      "8\n",
      "13\n",
      "21\n",
      "34\n"
     ]
    }
   ],
   "source": [
    "#Display Fibonacci series up to 10 terms.\n",
    "First=0\n",
    "Second=1\n",
    "print(\"Fibonnoci Series \")\n",
    "print(First)\n",
    "print(Second)\n",
    "for i in range(8):\n",
    "    third = First+Second\n",
    "    print(third)\n",
    "    First = Second\n",
    "    Second=third\n",
    "    "
   ]
  },
  {
   "cell_type": "code",
   "execution_count": 15,
   "metadata": {},
   "outputs": [
    {
     "name": "stdout",
     "output_type": "stream",
     "text": [
      "Fictorial for number 3 is 6\n"
     ]
    }
   ],
   "source": [
    "#: Find the factorial of a number inputted by user.\n",
    "num = int(input(\"Enter a limit numberr \"))\n",
    "fact = 1\n",
    "for i in range(1,num+1):\n",
    "    fact =fact*i\n",
    "\n",
    "print(f\"Fictorial for number {num} is {fact}\")"
   ]
  },
  {
   "cell_type": "code",
   "execution_count": 6,
   "metadata": {},
   "outputs": [
    {
     "name": "stdout",
     "output_type": "stream",
     "text": [
      "Addition for upto number 2 is 3\n"
     ]
    }
   ],
   "source": [
    "#: Find the sum of the series up to term inputted by user.\n",
    "num = int(input(\"Enter a limit numberr \"))\n",
    "sum = 0\n",
    "for i in range(0,num+1):\n",
    "    sum =sum+i\n",
    "\n",
    "print(f\"Addition for upto number {num} is {sum}\")"
   ]
  },
  {
   "cell_type": "code",
   "execution_count": 17,
   "metadata": {},
   "outputs": [
    {
     "name": "stdout",
     "output_type": "stream",
     "text": [
      "Number 13 is prime\n"
     ]
    }
   ],
   "source": [
    "#: Input a number and check whether it is prime or not.\n",
    "def isPrime(num):\n",
    "    if num<=1:\n",
    "        return False\n",
    "    for i in range(2,int(num**0.5) + 1):\n",
    "       if num%i==0:\n",
    "        return False\n",
    "    return True\n",
    "\n",
    "num = int(input(\"Enter a number \"))\n",
    "if isPrime(num):\n",
    "    print(f\"Number {num} is prime\")\n",
    "else: print(f\"Number {num} is not prime\")"
   ]
  },
  {
   "cell_type": "code",
   "execution_count": 19,
   "metadata": {},
   "outputs": [
    {
     "name": "stdout",
     "output_type": "stream",
     "text": [
      "Reverse of 123456 is 654321\n"
     ]
    }
   ],
   "source": [
    "\n",
    "#Ask user to enter a 5-digit integer number and display this number in reverse using loop\n",
    "def Reverse(num):\n",
    "    rev = 0\n",
    "    while num > 0:\n",
    "        rem = num % 10\n",
    "        rev = rev * 10 + rem\n",
    "        num //= 10\n",
    "    return rev\n",
    "\n",
    "num = int(input(\"Enter a number \"))\n",
    "print(f\"Reverse of {num} is {Reverse(num)}\")"
   ]
  },
  {
   "cell_type": "code",
   "execution_count": 22,
   "metadata": {},
   "outputs": [
    {
     "name": "stdout",
     "output_type": "stream",
     "text": [
      "7 x 1 = 7\n",
      "7 x 2 = 14\n",
      "7 x 3 = 21\n",
      "7 x 4 = 28\n",
      "7 x 5 = 35\n",
      "7 x 6 = 42\n",
      "7 x 7 = 49\n",
      "7 x 8 = 56\n",
      "7 x 9 = 63\n",
      "7 x 10 = 70\n"
     ]
    }
   ],
   "source": [
    "#Write a Python program to create the multiplication table (from 1 to 10) of a number.\n",
    "def display_Table(num):\n",
    "    for i in range(1,11):\n",
    "        print(f\"{num} x {i} = {num*i}\")\n",
    "\n",
    "num = int(input(\"Enter a number \"))\n",
    "display_Table(num)"
   ]
  },
  {
   "cell_type": "code",
   "execution_count": 26,
   "metadata": {},
   "outputs": [
    {
     "name": "stdout",
     "output_type": "stream",
     "text": [
      "apple\n",
      "banana\n",
      "cherry\n"
     ]
    }
   ],
   "source": [
    "#Iterative over the following array using for loop.\n",
    "fruits = [\"apple\", \"banana\", \"cherry\"]\n",
    "\n",
    "for fruits in fruits:\n",
    "    print(fruits)\n"
   ]
  },
  {
   "cell_type": "code",
   "execution_count": 32,
   "metadata": {},
   "outputs": [
    {
     "name": "stdout",
     "output_type": "stream",
     "text": [
      "The largest element in the array is: 450\n"
     ]
    }
   ],
   "source": [
    "# Find the largest element in an array using loop.\n",
    "array = [10,2 ,36 ,450 , 400]\n",
    "max = array[0]\n",
    "\n",
    "for i in array:\n",
    "    if i > max:\n",
    "        max = i\n",
    "print(\"The largest element in the array is:\", max)\n"
   ]
  },
  {
   "cell_type": "code",
   "execution_count": 33,
   "metadata": {},
   "outputs": [
    {
     "name": "stdout",
     "output_type": "stream",
     "text": [
      "The sum of the array is: 898\n"
     ]
    }
   ],
   "source": [
    "#Write a program to sum all the array elements using loop.\n",
    "array = [10,2,36,450, 400]\n",
    "sum = 0\n",
    "for i in array:\n",
    "    sum = sum + i\n",
    "    \n",
    "print(\"The sum of the array is:\", sum)"
   ]
  },
  {
   "cell_type": "code",
   "execution_count": 35,
   "metadata": {},
   "outputs": [
    {
     "name": "stdout",
     "output_type": "stream",
     "text": [
      "Previous array:  [0, 1, 2, 3, 4, 5, 6, 7, 8, 9]\n",
      "Replaced array: [0, -1, 2, -1, 4, -1, 6, -1, 8, -1]\n"
     ]
    }
   ],
   "source": [
    "#Replace all odd numbers in array [0, 1, 2, 3, 4, 5, 6, 7, 8, 9] with -1 without changing array.\n",
    "arr = [0, 1, 2, 3, 4, 5, 6, 7, 8, 9]\n",
    "print(\"Previous array: \", arr)\n",
    "for i in range(len(arr)):\n",
    "    if arr[i] % 2 != 0:\n",
    "        arr[i] = -1\n",
    "\n",
    "print(\"Replaced array:\", arr)\n"
   ]
  },
  {
   "cell_type": "code",
   "execution_count": 39,
   "metadata": {},
   "outputs": [
    {
     "name": "stdout",
     "output_type": "stream",
     "text": [
      "ISBN: 1222\n",
      "Title: Python Programmig\n",
      "Price: 700\n",
      "Main Area: Pakistan\n",
      "Sub Area: Faisalabad\n",
      "Number of Pages: 100\n"
     ]
    }
   ],
   "source": [
    "#Create a class BOOK with properties ISBN, Title, Price, Main Area, Sub Area, No of Pages. Constructors initialize these properties and show function display properties of and object. Call functions using object.\n",
    "class BOOK:\n",
    "    def __init__(self, ISBN, Title, Price, Main_Area, Sub_Area, No_of_Pages):\n",
    "        self.ISBN = ISBN\n",
    "        self.Title = Title\n",
    "        self.Price = Price\n",
    "        self.Main_Area = Main_Area\n",
    "        self.Sub_Area = Sub_Area    \n",
    "        self.No_of_Pages = No_of_Pages\n",
    "    def display(self):\n",
    "        print(\"ISBN:\", self.ISBN)\n",
    "        print(\"Title:\", self.Title)\n",
    "        print(\"Price:\", self.Price)\n",
    "        print(\"Main Area:\", self.Main_Area)\n",
    "        print(\"Sub Area:\", self.Sub_Area)\n",
    "        print(\"Number of Pages:\", self.No_of_Pages)\n",
    "        \n",
    "myBook=BOOK(1222,\"Python Programmig\",700,\"Pakistan\",\"Faisalabad\",100)\n",
    "myBook.display()"
   ]
  },
  {
   "cell_type": "code",
   "execution_count": 42,
   "metadata": {},
   "outputs": [
    {
     "name": "stdout",
     "output_type": "stream",
     "text": [
      "ID of Student is : 1222\n",
      "Name of Student is : Fatima\n",
      "Class of Student is : BSCS(A)\n"
     ]
    }
   ],
   "source": [
    "#Write a Python class named Student with two attributes: student_id, student_name. Add a new attribute: student_class. Create a function to display all attributes and their values in the student class.\n",
    "class Student:\n",
    "    def __init__(self, StudentId, StudentName):\n",
    "        self.StudentId= StudentId\n",
    "        self.StudentName = StudentName\n",
    "        self.StudentClass = \"BSCS(A)\" \n",
    "\n",
    "    def display(self):\n",
    "        print(\"ID of Student is :\", self.StudentId)\n",
    "        print(\"Name of Student is :\", self.StudentName)\n",
    "        print(\"Class of Student is :\", self.StudentClass)\n",
    "\n",
    "std = Student(1222, \"Fatima\")\n",
    "std.display()\n"
   ]
  },
  {
   "cell_type": "code",
   "execution_count": null,
   "metadata": {},
   "outputs": [],
   "source": []
  }
 ],
 "metadata": {
  "kernelspec": {
   "display_name": "Python 3",
   "language": "python",
   "name": "python3"
  },
  "language_info": {
   "codemirror_mode": {
    "name": "ipython",
    "version": 3
   },
   "file_extension": ".py",
   "mimetype": "text/x-python",
   "name": "python",
   "nbconvert_exporter": "python",
   "pygments_lexer": "ipython3",
   "version": "3.12.2"
  }
 },
 "nbformat": 4,
 "nbformat_minor": 2
}
