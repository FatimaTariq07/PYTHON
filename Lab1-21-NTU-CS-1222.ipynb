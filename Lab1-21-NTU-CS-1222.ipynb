{
 "cells": [
  {
   "cell_type": "code",
   "execution_count": 1,
   "metadata": {},
   "outputs": [
    {
     "name": "stdout",
     "output_type": "stream",
     "text": [
      "Hello world\n"
     ]
    }
   ],
   "source": [
    "#Test program\n",
    "print(\"Hello world\")"
   ]
  },
  {
   "cell_type": "code",
   "execution_count": 4,
   "metadata": {},
   "outputs": [
    {
     "name": "stdout",
     "output_type": "stream",
     "text": [
      "Value in kilometer is :  4.3491\n"
     ]
    }
   ],
   "source": [
    "#Ask the user to enter a value in miles and convert it in kilo meters (1 kilometer=0.6213 Mile).\n",
    "value = float(input(\"Enter the value in miles : \"))\n",
    "kilometer = value * 0.6213\n",
    "print(\"Value in kilometer is : \",kilometer)"
   ]
  },
  {
   "cell_type": "code",
   "execution_count": 7,
   "metadata": {},
   "outputs": [
    {
     "name": "stdout",
     "output_type": "stream",
     "text": [
      "Calculated value of y for  2 and 7  is :  387\n"
     ]
    }
   ],
   "source": [
    "#Given an equation y=ax3+ax2+x-7. Input the values of a and x from user and display the value of y on screen.\n",
    "a = int(input(\"Enter value of a :\"))\n",
    "x = int(input(\"Enter value of x : \"))\n",
    "y = ((a*a*a)+(a*a)+(x-7))\n",
    "print(\"Calculated value of y for \",x,\"and\" ,a,\" is : \",y)"
   ]
  },
  {
   "cell_type": "code",
   "execution_count": 11,
   "metadata": {},
   "outputs": [
    {
     "name": "stdout",
     "output_type": "stream",
     "text": [
      "Temperature  36.0  in farenhite is  96.8\n"
     ]
    }
   ],
   "source": [
    "#Write a program that reads a Celsius degree from the console and converts it to Fahrenheit and displays the result.\n",
    "Celcius_degree =float(input(\"Enter temperature in Celsius \"))\n",
    "farenhite_degree = (Celcius_degree * 9/5)+32\n",
    "print(\"Temperature \",Celcius_degree,\" in farenhite is \",farenhite_degree)\n",
    "                      "
   ]
  },
  {
   "cell_type": "code",
   "execution_count": null,
   "metadata": {},
   "outputs": [],
   "source": [
    "#Write a program that reads in the radius and length of a cylinder and computes the area and volume. \t\t\n",
    "# ( area = radius * radius * π )\t( volume = area * length )\n",
    "radius = float(input(\"Enter radius of the cylinder : \"))\n",
    "length = float(input(\"Enter length of the cylinder : \"))\n",
    "area = radius * radius * 3.14\n",
    "volume = area * length\n",
    "print(\"Area of the cylinder : \", area)\n",
    "print(\"Volume of the cylinder : \", volume)"
   ]
  },
  {
   "cell_type": "code",
   "execution_count": 13,
   "metadata": {},
   "outputs": [
    {
     "name": "stdout",
     "output_type": "stream",
     "text": [
      "Value of x is :  2.441289878069028\n"
     ]
    }
   ],
   "source": [
    "#Output the value of X using the below given equation. Input the value of n from user\n",
    "import math\n",
    "n = int(input(\"Enter value of n \"))\n",
    "x = (n+math.sqrt(n*n+8))**(1/3)\n",
    "print(\"Value of x is : \",x)"
   ]
  },
  {
   "cell_type": "code",
   "execution_count": 15,
   "metadata": {},
   "outputs": [
    {
     "name": "stdout",
     "output_type": "stream",
     "text": [
      "Left side :  2.75\n",
      "Right side :  2.75\n"
     ]
    }
   ],
   "source": [
    "#Input the values of a, b, c and d. Verify that the inputted values satisfy the below given equation or not.\n",
    "a = int(input(\"Enter value of a \"))\n",
    "b = int(input(\"Enter value of b \"))\n",
    "c = int(input(\"Enter value of c \"))\n",
    "d  = int(input(\"Enter value of d \"))\n",
    "left = (a/b) + (c/d)\n",
    "right =(a*d + b*c)/(b*d)\n",
    "print(\"Left side : \",left)\n",
    "print(\"Right side : \",right)"
   ]
  },
  {
   "cell_type": "code",
   "execution_count": 19,
   "metadata": {},
   "outputs": [
    {
     "name": "stdout",
     "output_type": "stream",
     "text": [
      "Value of x is  -0.320550528229663 for a=  2  and b=  10 and c=  3\n"
     ]
    }
   ],
   "source": [
    "#: Output the value of ‘x’ using the below given equation. Analyze and input the values to be inputted.\n",
    "import math\n",
    "b = int(input(\"Enter value of b \"))\n",
    "a = int(input(\"Enter value of a \"))\n",
    "c = int(input(\"Enter value of c \"))\n",
    "sqrt = b*b-4*a*c\n",
    "x = (-b + math.sqrt(sqrt))/(2*a)\n",
    "print(\"Value of x is \",x,\"for a= \",a,\" and b= \",b,\"and c= \",c)"
   ]
  },
  {
   "cell_type": "code",
   "execution_count": 21,
   "metadata": {},
   "outputs": [
    {
     "name": "stdout",
     "output_type": "stream",
     "text": [
      "Your grade is A\n"
     ]
    }
   ],
   "source": [
    "#Ask the user to enter his subject marks. Find his grade in that subject according to these conditions\n",
    "marks = float(input(\"Enter subject marks \"))\n",
    "if marks >=90:\n",
    "    print(\"Your grade is A+\")\n",
    "elif marks >=85 and marks <=89.9:\n",
    "    print(\"Your grade is A\")\n",
    "elif marks >=80 and marks <=84.9:\n",
    "    print(\"Your grade is A-\")\n",
    "elif marks >=75 and marks <=79.9:\n",
    "    print(\"Your grade is B+\")\n",
    "elif marks >=71 and marks <=74.9:\n",
    "    print(\"Your grade is B\")\n",
    "elif marks >=68 and marks <=70.9:\n",
    "    print(\"Your grade is B-\")\n",
    "elif marks >=64 and marks <=67.9:\n",
    "    print(\"Your grade is C+\")\n",
    "elif marks >=61 and marks <=63.9:\n",
    "    print(\"Your grade is C\")\n",
    "elif marks >=58 and marks <=60.9:\n",
    "    print(\"Your grade is C-\")\n",
    "elif marks >=54 and marks <=57.9:\n",
    "    print(\"Your grade is D+\")\n",
    "elif marks >=50 and marks <=53.9:\n",
    "    print(\"Your grade is D\")\n",
    "else:\n",
    "    print(\"Your grade is F\")\n",
    "\n",
    "\n",
    "\n",
    "                  "
   ]
  },
  {
   "cell_type": "code",
   "execution_count": 25,
   "metadata": {},
   "outputs": [
    {
     "name": "stdout",
     "output_type": "stream",
     "text": [
      "Your BMI is  21.132713440405748\n",
      "You are normal\n"
     ]
    }
   ],
   "source": [
    "#User will enter his weight in Kilograms and height in meters (1 M=3.23 Feet). Calculate the BMI of the user \n",
    "weight = float(input(\"Enter your weight \"))\n",
    "height = float(input(\"Enter your height \"))\n",
    "BMI = weight /(height **2)\n",
    "print(\"Your BMI is \", BMI)\n",
    "if BMI <=18.5:\n",
    "    print(\"You are underweight\")\n",
    "elif BMI>= 8.5 and BMI <=24.9:\n",
    "    print(\"You are normal\")\n",
    "elif BMI>=25 and BMI <=29.9:\n",
    "    print(\"You are overweight\")\n",
    "elif BMI>=30:\n",
    "    print(\"You are obese\")"
   ]
  },
  {
   "cell_type": "code",
   "execution_count": 27,
   "metadata": {},
   "outputs": [
    {
     "name": "stdout",
     "output_type": "stream",
     "text": [
      "DCS\n"
     ]
    }
   ],
   "source": [
    "#Write a program to display \"NTU\" if a number entered by user is a multiple of five , \n",
    "#otherwise print \"DCS\".\n",
    "num = int(input(\"Enter a number \"))\n",
    "if num%5==0:\n",
    "    print(\"NTU\")\n",
    "else:\n",
    "    print(\"DCS\")\n",
    "    \n"
   ]
  },
  {
   "cell_type": "code",
   "execution_count": 29,
   "metadata": {},
   "outputs": [
    {
     "name": "stdout",
     "output_type": "stream",
     "text": [
      "Not divisible\n"
     ]
    }
   ],
   "source": [
    "#: Write a program to check whether the last digit of a number (entered by user) is \n",
    "#divisible by 3 or not.\n",
    "number = int(input(\"Enter a number\"))\n",
    "digit = number%10\n",
    "if digit %3 ==0:\n",
    "    print(\"Divisible\")\n",
    "else:\n",
    "    print(\"Not divisible\")\n"
   ]
  },
  {
   "cell_type": "code",
   "execution_count": 31,
   "metadata": {},
   "outputs": [
    {
     "name": "stdout",
     "output_type": "stream",
     "text": [
      "Pak rupees: 400.0\n",
      "Aus dollor: 41040.0\n",
      "China Yuan: 18.181818181818183\n",
      "Euro: 2.3788284269997026\n",
      "Qatri Riyal: 9.47867298578199\n",
      "Saudi Riyal: 9.768009768009769\n",
      "UAE dirham: 9.535160905840286\n",
      "UK pound: 2.0186727226848347\n",
      "US Dollor: 2.5974025974025974\n"
     ]
    }
   ],
   "source": [
    "#Implement a currency converter which ask the user to enter value in Pak Rupees and convert in following: \n",
    "rupees = float(input(\"Enter a currency in rupees\"))\n",
    "aus_dollor = rupees*(1/102.6)\n",
    "china_yuan = rupees*(1/22)\n",
    "euro = rupees*(1/168.15)\n",
    "qatri_riyal = rupees*(1/42.2)\n",
    "saudi_riyal = rupees*(1/40.95)\n",
    "uae_dirham = rupees*(1/41.95)\n",
    "uk_pound = rupees*(1/198.15)\n",
    "us_dollor = rupees*(1/154)\n",
    "\n",
    "print(\"Pak rupees:\",rupees)\n",
    "print(\"Aus dollor:\",aus_dollor)\n",
    "print(\"China Yuan:\",china_yuan)\n",
    "print(\"Euro:\",euro)\n",
    "print(\"Qatri Riyal:\",qatri_riyal)\n",
    "print(\"Saudi Riyal:\",saudi_riyal)\n",
    "print(\"UAE dirham:\",uae_dirham)\n",
    "print(\"UK pound:\",uk_pound)\n",
    "print(\"US Dollor:\",us_dollor)"
   ]
  },
  {
   "cell_type": "code",
   "execution_count": null,
   "metadata": {},
   "outputs": [],
   "source": []
  }
 ],
 "metadata": {
  "kernelspec": {
   "display_name": "Python 3",
   "language": "python",
   "name": "python3"
  },
  "language_info": {
   "codemirror_mode": {
    "name": "ipython",
    "version": 3
   },
   "file_extension": ".py",
   "mimetype": "text/x-python",
   "name": "python",
   "nbconvert_exporter": "python",
   "pygments_lexer": "ipython3",
   "version": "3.12.2"
  }
 },
 "nbformat": 4,
 "nbformat_minor": 2
}
