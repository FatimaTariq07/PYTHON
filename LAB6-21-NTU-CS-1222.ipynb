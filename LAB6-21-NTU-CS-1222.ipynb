{
 "cells": [
  {
   "cell_type": "code",
   "execution_count": 3,
   "metadata": {},
   "outputs": [
    {
     "name": "stdout",
     "output_type": "stream",
     "text": [
      "[ 1  2  3  4  5  6  7  8  9 10 11 12]\n",
      "[[ 1  2  3]\n",
      " [ 4  5  6]\n",
      " [ 7  8  9]\n",
      " [10 11 12]]\n"
     ]
    }
   ],
   "source": [
    "# Reshape this array [1, 2, 3, 4, 5, 6, 7, 8, 9, 10, 11, 12] into 3 x 3#\n",
    "import numpy as np\n",
    "arr = np.array([1,2,3,4,5,6,7,8,9,10,11,12])\n",
    "print(arr)\n",
    "ReshapArr=arr.reshape(4,3)\n",
    "print(ReshapArr)"
   ]
  },
  {
   "cell_type": "code",
   "execution_count": 2,
   "metadata": {},
   "outputs": [
    {
     "name": "stdout",
     "output_type": "stream",
     "text": [
      "[ 1  4  9 16 25 36 49 64 81]\n"
     ]
    }
   ],
   "source": [
    "#Take this array [1,2,3,4,5,6,7,8,9], calculate the square and save the result in new array. \n",
    "import numpy as np\n",
    "import math\n",
    "array1 = np.array([1, 2, 3, 4, 5 , 6, 7, 8, 9])\n",
    "Sqarray = np.square(array1)\n",
    "print(Sqarray)"
   ]
  },
  {
   "cell_type": "code",
   "execution_count": 5,
   "metadata": {},
   "outputs": [
    {
     "name": "stdout",
     "output_type": "stream",
     "text": [
      "[[2 3 4]\n",
      " [7 8 9]]\n"
     ]
    }
   ],
   "source": [
    "# Write the syntax to slice index 1 to index 4, print from both elements. \n",
    "import numpy as np\n",
    "arr = np.array([[1,2,3,4,5],[6,7,8,9,10]])\n",
    "print(arr[:,1:4])"
   ]
  },
  {
   "cell_type": "code",
   "execution_count": 8,
   "metadata": {},
   "outputs": [
    {
     "name": "stdout",
     "output_type": "stream",
     "text": [
      "6\n"
     ]
    }
   ],
   "source": [
    "# Write the syntax to access the third element of the second array of the first array. \n",
    "import numpy as np\n",
    "arr = np.array([[[1,2,3],[4,5,6]],[[7,8,9],[10,11,12]]])\n",
    "print(arr[0,1,2])"
   ]
  },
  {
   "cell_type": "code",
   "execution_count": 11,
   "metadata": {},
   "outputs": [
    {
     "name": "stdout",
     "output_type": "stream",
     "text": [
      "[[ 2  3  4]\n",
      " [ 5  6  7]\n",
      " [ 8  9 10]]\n"
     ]
    }
   ],
   "source": [
    "#Write a NumPy program to create a 3x3 matrix with values ranging from 2 to 10. \n",
    "import numpy as np\n",
    "arr = np.arange(2,11).reshape(3,3)\n",
    "print(arr)"
   ]
  },
  {
   "cell_type": "code",
   "execution_count": 13,
   "metadata": {},
   "outputs": [
    {
     "name": "stdout",
     "output_type": "stream",
     "text": [
      "[ 0 -1  2 -1  4 -1  6 -1  8 -1]\n"
     ]
    }
   ],
   "source": [
    "#Replace all odd numbers in array [0, 1, 2, 3, 4, 5, 6, 7, 8, 9] with -1 without changing array.\n",
    "arr = np.array([0,1,2,3,4,5,6,7,8,9])\n",
    "arr[arr%2!=0]=-1\n",
    "print(arr)"
   ]
  },
  {
   "cell_type": "code",
   "execution_count": 22,
   "metadata": {},
   "outputs": [
    {
     "data": {
      "image/png": "[encoded data removed]",
      "text/plain": [
       "<Figure size 640x480 with 1 Axes>"
      ]
     },
     "metadata": {},
     "output_type": "display_data"
    }
   ],
   "source": [
    "#Create an array with 200000 random numbers. display them using a histogram with 100 bars.\n",
    "import matplotlib.pyplot as plt\n",
    "rnd_num = np.random.randn(20000)\n",
    "hist,bins = np.histogram(rnd_num,bins=100)\n",
    "plt.hist(rnd_num,bins=bins)\n",
    "plt.show()"
   ]
  },
  {
   "cell_type": "code",
   "execution_count": 19,
   "metadata": {},
   "outputs": [
    {
     "name": "stdout",
     "output_type": "stream",
     "text": [
      "Sum of three matrices is [[-2.45939494 -3.88975389  2.70061648 -0.39224269  0.65959309]\n",
      " [-0.05263145  0.56302729  2.31287598 -0.33276688  0.27277246]\n",
      " [ 0.60867018  0.54151628  1.17117895 -1.17696521  2.07058163]\n",
      " [-3.85005668  0.0157772  -2.61743344  0.58497608 -2.14511822]\n",
      " [ 0.00691847 -3.27186502  2.61290672  1.71417064  1.75500725]]\n",
      "Subtaction of three matrices is [[ 0.56592727  1.81847721 -1.35587269  1.31672935 -1.56940578]\n",
      " [ 1.95650504  0.61933385 -1.15004086 -2.71735379 -1.34510281]\n",
      " [ 0.19769461 -2.17013267 -3.54906498 -2.83517635 -0.54711822]\n",
      " [ 3.50184557  0.45673132 -0.98101879 -3.88689712  2.86939578]\n",
      " [-1.00845094  1.79084771 -2.2309124  -0.79408028 -0.76431243]]\n",
      "Multiplaction of three matrices is [[-0.07293854 -1.32444245  0.57717971  0.07974036 -0.1361617 ]\n",
      " [ 0.20368068 -0.2067134   0.36368578  1.18434157 -0.07019538]\n",
      " [-0.19063486 -0.20338182  1.54839979 -0.33309665  0.29512576]\n",
      " [-0.53335743 -0.18452452  2.51974681  0.71646724  0.55468885]\n",
      " [ 0.0444228  -0.53294805  0.2445383   0.15098138  0.19041838]]\n"
     ]
    }
   ],
   "source": [
    "#Using NumPy, generate 3 matrices of dimension of 5X5 randomly and perform the following \n",
    "#and display the result. \n",
    "matrix1=np.array(np.random.randn(25).reshape(5,5))\n",
    "matrix2=np.array(np.random.randn(25).reshape(5,5))\n",
    "matrix3=np.array(np.random.randn(25).reshape(5,5))\n",
    "print(f\"Sum of three matrices is {matrix1+matrix2+matrix3}\")\n",
    "print(f\"Subtaction of three matrices is {matrix1-matrix2-matrix3}\")\n",
    "print(f\"Multiplaction of three matrices is {matrix1*matrix2*matrix3}\")\n"
   ]
  },
  {
   "cell_type": "code",
   "execution_count": 20,
   "metadata": {},
   "outputs": [
    {
     "name": "stdout",
     "output_type": "stream",
     "text": [
      "88.8\n"
     ]
    }
   ],
   "source": [
    "# Find the mean of following speeds of cars using Python code.\n",
    "speed = np.array([99,86,87,88,111,86,103,87,94,78,77,85,86,110,112,89,70,60,90,78])\n",
    "print(np.mean(speed))"
   ]
  },
  {
   "cell_type": "code",
   "execution_count": 23,
   "metadata": {},
   "outputs": [
    {
     "name": "stdout",
     "output_type": "stream",
     "text": [
      "[ 1  7  3 18 35 18 24 40 81]\n",
      "[1.         7.         3.         0.5        0.71428571 2.\n",
      " 1.5        1.6        1.        ]\n"
     ]
    }
   ],
   "source": [
    "# Using NumPy, on given two matrices the task is to create a program to multiply, divide and \n",
    "#add two matrices in python. \n",
    "x_arr = np.array([1,7,3,3,5,6,6,8,9])\n",
    "y_arr = np.array([1,1,1,6,7,3,4,5,9])\n",
    "print(np.multiply(x_arr,y_arr))\n",
    "print(np.divide(x_arr,y_arr))\n"
   ]
  },
  {
   "cell_type": "code",
   "execution_count": 24,
   "metadata": {},
   "outputs": [
    {
     "name": "stdout",
     "output_type": "stream",
     "text": [
      "31.65\n",
      "26.0\n"
     ]
    }
   ],
   "source": [
    "#Write a Python program to find the mean, median of the set of numbers. \n",
    "arr = np.array([21, 3, 7, 17, 19, 31, 46, 20, 43, 77, 65, 33, 34, 46, 48,70,6,8,19,20])\n",
    "print(np.mean(arr))\n",
    "print(np.median(arr))\n"
   ]
  },
  {
   "cell_type": "code",
   "execution_count": 26,
   "metadata": {},
   "outputs": [
    {
     "name": "stdout",
     "output_type": "stream",
     "text": [
      "ModeResult(mode=7, count=4)\n"
     ]
    }
   ],
   "source": [
    "# Find the mode \n",
    "from scipy import stats\n",
    "arr = np.array([7, 9, 10, 13, 11, 7, 9, 19, 12, 11, 9, 7, 9, 10, 11, 7, 8 ,11])\n",
    "print(stats.mode(arr))"
   ]
  },
  {
   "cell_type": "code",
   "execution_count": 27,
   "metadata": {},
   "outputs": [
    {
     "name": "stdout",
     "output_type": "stream",
     "text": [
      "147.32277488562318\n",
      "21704.0\n"
     ]
    }
   ],
   "source": [
    "#. Find out the variance using Python Program. Also find the Standard Deviation.\n",
    "from scipy import stats\n",
    "height = np.array([600,470,170,430,300])\n",
    "print(np.std(height))\n",
    "print(np.var(height))"
   ]
  },
  {
   "cell_type": "code",
   "execution_count": 28,
   "metadata": {},
   "outputs": [
    {
     "name": "stdout",
     "output_type": "stream",
     "text": [
      "Probability of exceeding 100 km/hr: 0.15865525393145707\n"
     ]
    }
   ],
   "source": [
    "#Find probability\n",
    "from scipy.stats import norm\n",
    "mean_speed = 90  \n",
    "std_dev = 10     \n",
    "threshold_speed = 100  # Define the speed threshold in km/hr\n",
    "\n",
    "prob_below_threshold = norm.cdf(threshold_speed, mean_speed, std_dev)\n",
    "# Probability of exceeding the threshold speed is the complement of prob_below_threshold\n",
    "prob_exceed_threshold = 1 - prob_below_threshold\n",
    "\n",
    "# Print the probability of exceeding the threshold speed\n",
    "print(\"Probability of exceeding\", threshold_speed, \"km/hr:\", prob_exceed_threshold)"
   ]
  },
  {
   "cell_type": "code",
   "execution_count": 1,
   "metadata": {},
   "outputs": [
    {
     "name": "stdout",
     "output_type": "stream",
     "text": [
      "Probability between 50 and 70 is  -0.4087887802741321\n"
     ]
    }
   ],
   "source": [
    "from scipy.stats import norm\n",
    "mean_time = 50\n",
    "std_time  =15\n",
    "\n",
    "lower_time =50\n",
    "upper_time = 70\n",
    "probality = norm.cdf(lower_time, mean_time, std_time) - norm.cdf(upper_time, mean_time, std_time)\n",
    "print(\"Probability between 50 and 70 is \",probality)"
   ]
  },
  {
   "cell_type": "code",
   "execution_count": 6,
   "metadata": {},
   "outputs": [
    {
     "name": "stdout",
     "output_type": "stream",
     "text": [
      "Tom get addmission\n"
     ]
    }
   ],
   "source": [
    "from scipy.stats import norm\n",
    "uni_mean = 500\n",
    "uni_std =100\n",
    "tom_scored =585\n",
    "#use percent point function\n",
    "min_score = norm.ppf(0.7,uni_mean,uni_std)\n",
    "if (tom_scored >min_score):\n",
    "    print(\"Tom get addmission\")\n",
    "else:\n",
    "    print(\"Tom does not get addmission\")"
   ]
  },
  {
   "cell_type": "code",
   "execution_count": 11,
   "metadata": {},
   "outputs": [
    {
     "data": {
      "image/png": "[encoded data removed]",
      "text/plain": [
       "<Figure size 640x480 with 1 Axes>"
      ]
     },
     "metadata": {},
     "output_type": "display_data"
    }
   ],
   "source": [
    "# Plot the data using scatter plot and bars. \n",
    "import matplotlib.pyplot as plt\n",
    "\n",
    "Class = ['English', 'Math', 'History', 'Computer', 'Arts', 'Biology']\n",
    "Period = [1, 6, 2, 4, 3, 5]  \n",
    "Average_score = [95, 85, 70, 65, 90, 70]\n",
    "\n",
    "plt.bar(Period, Average_score)\n",
    "plt.xlabel('Period')\n",
    "plt.ylabel('Average Score')\n",
    "\n",
    "plt.xticks(Period, Class)\n",
    "\n",
    "plt.xticks(rotation=0)\n",
    "\n",
    "plt.show()\n"
   ]
  },
  {
   "cell_type": "code",
   "execution_count": 3,
   "metadata": {},
   "outputs": [
    {
     "data": {
      "image/png": "[encoded data removed]",
      "text/plain": [
       "<Figure size 640x480 with 1 Axes>"
      ]
     },
     "metadata": {},
     "output_type": "display_data"
    }
   ],
   "source": [
    "#using bars\n",
    "import matplotlib.pyplot as plt\n",
    "color= ['white','brown','black','multi-colors']\n",
    "frequency = [4,7,3,6]\n",
    "\n",
    "plt.bar(color, frequency)\n",
    "plt.xticks(color)\n",
    "plt.yticks(frequency)\n",
    "plt.show()"
   ]
  },
  {
   "cell_type": "code",
   "execution_count": 4,
   "metadata": {},
   "outputs": [
    {
     "data": {
      "image/png": "[encoded data removed]",
      "text/plain": [
       "<Figure size 640x480 with 1 Axes>"
      ]
     },
     "metadata": {},
     "output_type": "display_data"
    }
   ],
   "source": [
    "#using scatter plots\n",
    "import matplotlib.pyplot as plt\n",
    "color= ['white','brown','black','multi-colors']\n",
    "frequency = [4,7,3,6]\n",
    "\n",
    "plt.scatter(color, frequency)\n",
    "plt.xticks(color)\n",
    "plt.yticks(frequency)\n",
    "plt.show()"
   ]
  },
  {
   "cell_type": "code",
   "execution_count": null,
   "metadata": {},
   "outputs": [],
   "source": []
  }
 ],
 "metadata": {
  "kernelspec": {
   "display_name": "Python 3",
   "language": "python",
   "name": "python3"
  },
  "language_info": {
   "codemirror_mode": {
    "name": "ipython",
    "version": 3
   },
   "file_extension": ".py",
   "mimetype": "text/x-python",
   "name": "python",
   "nbconvert_exporter": "python",
   "pygments_lexer": "ipython3",
   "version": "3.10.0"
  }
 },
 "nbformat": 4,
 "nbformat_minor": 2
}
