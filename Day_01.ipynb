{
 "cells": [
  {
   "cell_type": "code",
   "execution_count": null,
   "metadata": {},
   "outputs": [],
   "source": [
    "print(\"Fatima\")"
   ]
  },
  {
   "cell_type": "code",
   "execution_count": null,
   "metadata": {},
   "outputs": [],
   "source": [
    "#variables\n",
    "my_name = \"Fatima \"\n",
    "print(my_name)\n",
    "x=5\n",
    "print(x)\n",
    "#data type\n",
    "print(type(x))"
   ]
  },
  {
   "cell_type": "code",
   "execution_count": null,
   "metadata": {},
   "outputs": [],
   "source": [
    "#TypeCasting\n",
    "x = 20.5\n",
    "x = int(x)\n",
    "print(x)\n",
    "x = str(x)\n",
    "print(x)\n",
    "name_1 = \"Fatima\"\n",
    "name_2 = \"Tariq\"\n",
    "#Concatenation\n",
    "print(\"Your age is : \",x)\n",
    "print (\"Your name is : \",name_1+ \" \" +name_2)"
   ]
  },
  {
   "cell_type": "code",
   "execution_count": null,
   "metadata": {},
   "outputs": [],
   "source": [
    "#User Input\n",
    "\n",
    "input_var = input(\"Enter your name : \")\n",
    "print(\"Your name is : \",input_var)\n",
    "input_age = int(input(\"Enter your age : \"))\n",
    "print(\"Your age is : \",input_age)\n",
    "print(type(input_age))\n",
    "\n",
    "#Addition,Multiplication,division,subtraction\n",
    "num_1 = int(input(\"Enter first number : \"))\n",
    "num_2 = int(input(\"Enter second number : \"))\n",
    "print(\"Addition of two numbers are : \",num_1+num_2)\n",
    "print(\"Multiplication of two numbers are : \",num_1*num_2)\n",
    "print(\"Division of two numbers are : \",num_1/num_2)\n",
    "print(\"Subtraction of two numbers are : \",num_1-num_2)\n"
   ]
  },
  {
   "cell_type": "code",
   "execution_count": null,
   "metadata": {},
   "outputs": [],
   "source": [
    "#IfElse/Elif\n",
    "num_1 = int(input(\"Enter first number : \"))\n",
    "num_2 = int(input(\"Enter second number : \"))\n",
    "if num_1 > num_2:\n",
    "    print(\"1st number is greater \")\n",
    "elif num_1 == num_2:\n",
    "    print(\"Both are equal \")\n",
    "else:\n",
    "    print(\"2nd number is greater\")\n"
   ]
  },
  {
   "cell_type": "code",
   "execution_count": null,
   "metadata": {},
   "outputs": [],
   "source": [
    "#Calculator\n",
    "operator = input(\"Enter the operation you want to perform\")\n",
    "num_1 = int(input(\"Enter first number : \"))\n",
    "num_2 = int(input(\"Enter second number : \"))\n",
    "if operator == \"+\":\n",
    "   print(\"Addition of two numbers are : \",num_1+num_2)\n",
    "elif operator == \"-\":\n",
    "   print(\"Subtraction of two numbers are : \",num_1-num_2)\n",
    "elif operator == \"*\":\n",
    "   print(\"Multiplication of two numbers are : \", num_1*num_2)\n",
    "elif operator == \"/\":\n",
    "   print(\"Division of two numbers are : \",num_1/num_2)\n",
    "else:\n",
    "   print(\"Invalid operator\")\n",
    "   \n",
    "   "
   ]
  },
  {
   "cell_type": "code",
   "execution_count": null,
   "metadata": {},
   "outputs": [],
   "source": [
    "#Average and product of 3 numbers\n",
    "num_1 = int(input(\"Enter first number : \"))\n",
    "num_2 = int(input(\"Enter second number : \"))\n",
    "\n",
    "num_3 = int(input(\"Enter third number : \"))\n",
    "sum_1 = num_1 + num_2 + num_3\n",
    "print(\"Product of 3 numbers are :  \",num_1*num_2*num_3)\n",
    "print(\"Average of 3 numbers is : \",sum_1/3)\n",
    " #Solve Equation y=ax3+a2x2+x-7.\n",
    "a = int(input(\"Enter value of a :\" ))\n",
    "x = int(input(\"Enter value of x :\"))\n",
    "eq = a* x*x*x + a*a * x*x + x -7\n",
    "print (\"Solution of equation is : \",eq)\n",
    "#Before swap\n",
    "print(\"First number is \", num_1)\n",
    "print(\"Second number is \", num_2)\n",
    "#Swap Numbers\n",
    "temp = num_1\n",
    "num_1 = num_2\n",
    "num_2 = temp\n",
    "print(\"First number is \",num_1)\n",
    "print(\"Second number is \",num_2)\n"
   ]
  }
 ],
 "metadata": {
  "kernelspec": {
   "display_name": "Python 3",
   "language": "python",
   "name": "python3"
  },
  "language_info": {
   "codemirror_mode": {
    "name": "ipython",
    "version": 3
   },
   "file_extension": ".py",
   "mimetype": "text/x-python",
   "name": "python",
   "nbconvert_exporter": "python",
   "pygments_lexer": "ipython3",
   "version": "3.11.2"
  },
  "orig_nbformat": 4,
  "vscode": {
   "interpreter": {
    "hash": "ff4b1fca65a764b45acb559e482afe389d289dd599b9f8c5fd12ff5c2ea46a65"
   }
  }
 },
 "nbformat": 4,
 "nbformat_minor": 2
}
